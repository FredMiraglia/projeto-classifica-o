{
  "nbformat": 4,
  "nbformat_minor": 0,
  "metadata": {
    "colab": {
      "private_outputs": true,
      "provenance": [],
      "authorship_tag": "ABX9TyNEqtDhKyIDy0UEXmMOLsfN",
      "include_colab_link": true
    },
    "kernelspec": {
      "name": "python3",
      "display_name": "Python 3"
    },
    "language_info": {
      "name": "python"
    }
  },
  "cells": [
    {
      "cell_type": "markdown",
      "metadata": {
        "id": "view-in-github",
        "colab_type": "text"
      },
      "source": [
        "<a href=\"https://colab.research.google.com/github/FredMiraglia/projeto_analise_dados/blob/main/Doen%C3%A7a_card%C3%ADaca_classifica%C3%A7%C3%A3o.ipynb\" target=\"_parent\"><img src=\"https://colab.research.google.com/assets/colab-badge.svg\" alt=\"Open In Colab\"/></a>"
      ]
    },
    {
      "cell_type": "code",
      "execution_count": null,
      "metadata": {
        "id": "G9dBdpbkfMhz"
      },
      "outputs": [],
      "source": [
        "import pandas as pd\n",
        "import numpy as np\n",
        "import matplotlib.pyplot as plt\n",
        "import seaborn as sns\n",
        "import warnings\n",
        "warnings.filterwarnings('ignore')\n",
        "import plotly.express as px\n",
        "import plotly.graph_objects as go\n",
        "import plotly.io as pio\n",
        "pio.templates.default = \"plotly_white\"\n",
        "from sklearn.preprocessing import StandardScaler\n",
        "from sklearn.model_selection import train_test_split"
      ]
    },
    {
      "cell_type": "markdown",
      "source": [
        "idade\n",
        "sexo\n",
        "tipo de dor no peito (4 valores)\n",
        "pressão arterial em repouso\n",
        "colesterol sérico em mg/dl\n",
        "glicemia em jejum > 120 mg/dl\n",
        "resultados eletrocardiográficos em repouso (valores 0,1,2)\n",
        "frequência cardíaca máxima alcançada\n",
        "angina induzida por exercício\n",
        "oldpeak = depressão do segmento ST induzida por exercício em relação ao repouso\n",
        "a inclinação do pico do segmento ST do exercício\n",
        "número de vasos principais (0-3) coloridos por fluoroscopia\n",
        "thal: 0 = normal; 1 = defeito fixo; 2 = defeito reversível\n",
        "Os nomes e números de previdência social dos pacientes foram removidos recentemente do banco de dados, substituídos por valores fictícios."
      ],
      "metadata": {
        "id": "gi15gGHufNX7"
      }
    },
    {
      "cell_type": "code",
      "source": [
        "df = pd.read_csv(\"/content/heart (2).csv\")\n",
        "df.head()"
      ],
      "metadata": {
        "id": "kMhvmhAliC_x"
      },
      "execution_count": null,
      "outputs": []
    },
    {
      "cell_type": "code",
      "source": [
        "df.columns = ['idade', 'sexo', 'dor_peito', 'pressão_repouso', 'colesterol', 'glicemia', 'eletrocardiográficos', 'frequência cardíaca máxima', 'angina induzida por exercício', 'oldpeak', 'declive', 'ca', 'thal', 'alvo']"
      ],
      "metadata": {
        "id": "sCZYfXWKkZjb"
      },
      "execution_count": null,
      "outputs": []
    },
    {
      "cell_type": "code",
      "source": [
        "df.info()"
      ],
      "metadata": {
        "id": "GnYnNdSQkA7H"
      },
      "execution_count": null,
      "outputs": []
    },
    {
      "cell_type": "code",
      "source": [
        "df.describe()"
      ],
      "metadata": {
        "id": "9tmvhGr0kEvf"
      },
      "execution_count": null,
      "outputs": []
    },
    {
      "cell_type": "code",
      "source": [
        "df.isnull().sum()"
      ],
      "metadata": {
        "id": "swfp5PPOlmTU"
      },
      "execution_count": null,
      "outputs": []
    },
    {
      "cell_type": "code",
      "source": [
        "df.head()"
      ],
      "metadata": {
        "id": "sIBDN5JjlrJy"
      },
      "execution_count": null,
      "outputs": []
    },
    {
      "cell_type": "code",
      "source": [
        "pd.crosstab(df.sexo, df.alvo).plot(kind='bar')"
      ],
      "metadata": {
        "id": "3zayhYRR8oYP"
      },
      "execution_count": null,
      "outputs": []
    },
    {
      "cell_type": "code",
      "source": [
        "plt.figure(figsize=(12,5))\n",
        "sns.countplot(x='alvo', data=df)\n",
        "plt.show()"
      ],
      "metadata": {
        "id": "MEcSC-ERt1et"
      },
      "execution_count": null,
      "outputs": []
    },
    {
      "cell_type": "code",
      "source": [
        "plt.figure(figsize=(12,5))\n",
        "plt.title('Idade')\n",
        "plt.hist(df['idade'], bins=20)\n",
        "plt.show()"
      ],
      "metadata": {
        "id": "exQ-p1djqr_J"
      },
      "execution_count": null,
      "outputs": []
    },
    {
      "cell_type": "code",
      "source": [
        "plt.figure(figsize=(12,8))\n",
        "sns.heatmap(df.corr(), annot=True, cbar=False, cmap='Blues',center=True)\n",
        "plt.show()"
      ],
      "metadata": {
        "id": "lTDcO-vet3we"
      },
      "execution_count": null,
      "outputs": []
    },
    {
      "cell_type": "code",
      "source": [
        "df_doença = df[df['alvo']==1]"
      ],
      "metadata": {
        "id": "84Xz_SNGrTRW"
      },
      "execution_count": null,
      "outputs": []
    },
    {
      "cell_type": "code",
      "source": [
        "df_doença[['idade']].hist(bins=25)\n",
        "print(\"Média: \", df_doença['idade'].mean())\n",
        "print(\"Mediana: \", df_doença['idade'].median())\n",
        "print(\"Moda: \", df_doença['idade'].mode())"
      ],
      "metadata": {
        "id": "tLFnxwr8rcc9"
      },
      "execution_count": null,
      "outputs": []
    },
    {
      "cell_type": "code",
      "source": [
        "df_doença[['sexo']].value_counts()"
      ],
      "metadata": {
        "id": "_UcRmWCCr87I"
      },
      "execution_count": null,
      "outputs": []
    },
    {
      "cell_type": "code",
      "source": [
        "df_doença['dor_peito'].value_counts().sort_values(ascending=False)"
      ],
      "metadata": {
        "id": "HJeii3f7s4hh"
      },
      "execution_count": null,
      "outputs": []
    },
    {
      "cell_type": "code",
      "source": [
        "df['pressão_repouso'].hist(bins=20)"
      ],
      "metadata": {
        "id": "iHkwc0OOtaFX"
      },
      "execution_count": null,
      "outputs": []
    },
    {
      "cell_type": "code",
      "source": [
        "X = df.drop('alvo', axis=1)\n",
        "y = df['alvo']"
      ],
      "metadata": {
        "id": "15Lqxwfhtw7m"
      },
      "execution_count": null,
      "outputs": []
    },
    {
      "cell_type": "code",
      "source": [
        "X_train, X_teste, y_train, y_teste = train_test_split(X,y, test_size=0.3)"
      ],
      "metadata": {
        "id": "VNgbenW8vCnT"
      },
      "execution_count": null,
      "outputs": []
    },
    {
      "cell_type": "code",
      "source": [
        "from sklearn.linear_model import LogisticRegression"
      ],
      "metadata": {
        "id": "1v8vL-cvvU7b"
      },
      "execution_count": null,
      "outputs": []
    },
    {
      "cell_type": "code",
      "source": [
        "model_lg = LogisticRegression()\n",
        "model_lg.fit(X_train, y_train)\n",
        "pred = model_lg.predict(X_teste)"
      ],
      "metadata": {
        "id": "FC0ZhJHlvay_"
      },
      "execution_count": null,
      "outputs": []
    },
    {
      "cell_type": "code",
      "source": [
        "from sklearn.metrics import classification_report, confusion_matrix\n",
        "print(classification_report(y_teste, pred))\n",
        "print(confusion_matrix(y_teste, pred))"
      ],
      "metadata": {
        "id": "Q83L4xqav2Ti"
      },
      "execution_count": null,
      "outputs": []
    },
    {
      "cell_type": "code",
      "source": [
        "from sklearn.tree import DecisionTreeClassifier\n",
        "model_tree = DecisionTreeClassifier()\n",
        "model_tree.fit(X_train, y_train)\n",
        "pred_tree = model_tree.predict(X_teste)"
      ],
      "metadata": {
        "id": "_o0tgTVGwb_v"
      },
      "execution_count": null,
      "outputs": []
    },
    {
      "cell_type": "code",
      "source": [
        "from sklearn.metrics import classification_report, confusion_matrix"
      ],
      "metadata": {
        "id": "zz16NEZY9gSx"
      },
      "execution_count": null,
      "outputs": []
    },
    {
      "cell_type": "code",
      "source": [
        "print(classification_report(y_teste, pred_tree))\n",
        "pd.crosstab(y_teste, pred_tree).style.background_gradient(cmap='Blues')"
      ],
      "metadata": {
        "id": "xAjKKAOPwiA1"
      },
      "execution_count": null,
      "outputs": []
    }
  ]
}