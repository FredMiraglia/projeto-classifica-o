{
  "nbformat": 4,
  "nbformat_minor": 0,
  "metadata": {
    "colab": {
      "private_outputs": true,
      "provenance": [],
      "mount_file_id": "1FRksW6VmOn1_K57--NKWFOBJF1bhtfAZ",
      "authorship_tag": "ABX9TyOLtDo1SIjYXisHkGmSkd+D",
      "include_colab_link": true
    },
    "kernelspec": {
      "name": "python3",
      "display_name": "Python 3"
    },
    "language_info": {
      "name": "python"
    }
  },
  "cells": [
    {
      "cell_type": "markdown",
      "metadata": {
        "id": "view-in-github",
        "colab_type": "text"
      },
      "source": [
        "<a href=\"https://colab.research.google.com/github/FredMiraglia/projeto-classifica-o/blob/main/Regress%C3%A3o_linear.ipynb\" target=\"_parent\"><img src=\"https://colab.research.google.com/assets/colab-badge.svg\" alt=\"Open In Colab\"/></a>"
      ]
    },
    {
      "cell_type": "code",
      "execution_count": null,
      "metadata": {
        "id": "TqDuQSnYabqe"
      },
      "outputs": [],
      "source": [
        "import pandas as pd\n",
        "import numpy as np\n",
        "import matplotlib.pyplot as plt\n",
        "import seaborn as sns\n",
        "import warnings\n",
        "warnings.filterwarnings('ignore')\n",
        "pd.set_eng_float_format(accuracy=2, use_eng_prefix=True)\n",
        "pd.set_option('display.max_columns', None)\n",
        "pd.set_option('display.max_rows', None)\n",
        "pd.set_option('display.float_format', lambda x: '%.2f' % x)"
      ]
    },
    {
      "cell_type": "code",
      "source": [
        "df = pd.read_csv('/content/drive/MyDrive/Python-Data-Science-and-Machine-Learning-Bootcamp/5. Machine Learning/Regressões Lineares/Ecommerce Customers')"
      ],
      "metadata": {
        "id": "7glOdDunbhGM"
      },
      "execution_count": null,
      "outputs": []
    },
    {
      "cell_type": "code",
      "source": [
        "df.head()"
      ],
      "metadata": {
        "id": "mLaTCi2Cb6yM"
      },
      "execution_count": null,
      "outputs": []
    },
    {
      "cell_type": "code",
      "source": [
        "df = df.iloc[:,3:]"
      ],
      "metadata": {
        "id": "QoeyewFob_NL"
      },
      "execution_count": null,
      "outputs": []
    },
    {
      "cell_type": "code",
      "source": [
        "df.columns = ['Duração média da sessão', 'Tempo no aplicativo', 'Tempo no site',\n",
        "'Duração da assinatura', 'Valor anual gasto']"
      ],
      "metadata": {
        "id": "6hHzYJwudA7c"
      },
      "execution_count": null,
      "outputs": []
    },
    {
      "cell_type": "code",
      "source": [
        "df.info()"
      ],
      "metadata": {
        "id": "xNp8sy74cf5V"
      },
      "execution_count": null,
      "outputs": []
    },
    {
      "cell_type": "code",
      "source": [
        "df.describe()"
      ],
      "metadata": {
        "id": "wNBbBgflcqIn"
      },
      "execution_count": null,
      "outputs": []
    },
    {
      "cell_type": "code",
      "source": [
        "df.isnull().sum()"
      ],
      "metadata": {
        "id": "STlsgTc-cvFf"
      },
      "execution_count": null,
      "outputs": []
    },
    {
      "cell_type": "code",
      "source": [
        "sns.pairplot(df)"
      ],
      "metadata": {
        "id": "JmSlxhLXdju6"
      },
      "execution_count": null,
      "outputs": []
    },
    {
      "cell_type": "code",
      "source": [
        "sns.jointplot(x='Duração da assinatura', y='Valor anual gasto', data=df)"
      ],
      "metadata": {
        "id": "TdPl9qU-d_AB"
      },
      "execution_count": null,
      "outputs": []
    },
    {
      "cell_type": "code",
      "source": [
        "sns.jointplot(x='Tempo no aplicativo', y='Valor anual gasto', data=df)"
      ],
      "metadata": {
        "id": "RRqmqoHbeJY1"
      },
      "execution_count": null,
      "outputs": []
    },
    {
      "cell_type": "code",
      "source": [
        "plt.figure(figsize=(12,8))\n",
        "sns.heatmap(df.corr(), annot=True)"
      ],
      "metadata": {
        "id": "CV98ZVWJemYw"
      },
      "execution_count": null,
      "outputs": []
    },
    {
      "cell_type": "code",
      "source": [
        "sns.lmplot(x='Duração da assinatura', y='Valor anual gasto', data=df)"
      ],
      "metadata": {
        "id": "Olv0U7nPe0DC"
      },
      "execution_count": null,
      "outputs": []
    },
    {
      "cell_type": "code",
      "source": [
        "X = df.drop('Valor anual gasto', axis=1)\n",
        "y = df['Valor anual gasto']"
      ],
      "metadata": {
        "id": "GlJG_XXifns1"
      },
      "execution_count": null,
      "outputs": []
    },
    {
      "cell_type": "code",
      "source": [
        "from sklearn.model_selection import train_test_split\n",
        "X_train, X_teste, y_train, y_test = train_test_split(X, y, test_size=.3)"
      ],
      "metadata": {
        "id": "c-WGbbRWfbh6"
      },
      "execution_count": null,
      "outputs": []
    },
    {
      "cell_type": "code",
      "source": [
        "from sklearn.linear_model import LinearRegression\n",
        "lr = LinearRegression()\n",
        "lr.fit(X_train, y_train)\n",
        "pred =  lr.predict(X_teste)"
      ],
      "metadata": {
        "id": "6T9Kw7epfv1b"
      },
      "execution_count": null,
      "outputs": []
    },
    {
      "cell_type": "code",
      "source": [
        "lr.coef_"
      ],
      "metadata": {
        "id": "DQOGIDV4ge4M"
      },
      "execution_count": null,
      "outputs": []
    },
    {
      "cell_type": "code",
      "source": [
        "sns.scatterplot(x=y_test, y=pred)"
      ],
      "metadata": {
        "id": "NkYK6xeLf7th"
      },
      "execution_count": null,
      "outputs": []
    },
    {
      "cell_type": "code",
      "source": [
        "pd.DataFrame(lr.coef_, X.columns, columns=['Coeficientes'])"
      ],
      "metadata": {
        "id": "TruTu5zrgKkE"
      },
      "execution_count": null,
      "outputs": []
    },
    {
      "cell_type": "code",
      "source": [
        "from sklearn.metrics import mean_absolute_error, mean_squared_error, r2_score"
      ],
      "metadata": {
        "id": "DyXshhlignbF"
      },
      "execution_count": null,
      "outputs": []
    },
    {
      "cell_type": "code",
      "source": [
        "print('MAE: ', mean_absolute_error(y_test, pred))\n",
        "print('MSE: ', mean_squared_error(y_test, pred))\n",
        "print('RMSE: ', np.sqrt(mean_squared_error(y_test, pred)))"
      ],
      "metadata": {
        "id": "QsrP2f3hgzTd"
      },
      "execution_count": null,
      "outputs": []
    },
    {
      "cell_type": "code",
      "source": [
        "plt.figure(figsize=(20,6))\n",
        "sns.distplot((y_test-pred), bins=50)\n",
        "plt.show()"
      ],
      "metadata": {
        "id": "k3MmHleng2lT"
      },
      "execution_count": null,
      "outputs": []
    }
  ]
}