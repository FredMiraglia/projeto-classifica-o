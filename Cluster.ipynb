{
  "nbformat": 4,
  "nbformat_minor": 0,
  "metadata": {
    "colab": {
      "private_outputs": true,
      "provenance": [],
      "authorship_tag": "ABX9TyOF9n4PNZz4Ju+kUHuSTE17",
      "include_colab_link": true
    },
    "kernelspec": {
      "name": "python3",
      "display_name": "Python 3"
    },
    "language_info": {
      "name": "python"
    }
  },
  "cells": [
    {
      "cell_type": "markdown",
      "metadata": {
        "id": "view-in-github",
        "colab_type": "text"
      },
      "source": [
        "<a href=\"https://colab.research.google.com/github/FredMiraglia/projeto_analise_dados/blob/main/Cluster.ipynb\" target=\"_parent\"><img src=\"https://colab.research.google.com/assets/colab-badge.svg\" alt=\"Open In Colab\"/></a>"
      ]
    },
    {
      "cell_type": "code",
      "execution_count": null,
      "metadata": {
        "id": "YkfgYxEXzCj2"
      },
      "outputs": [],
      "source": [
        "import pandas as pd\n",
        "import numpy as np\n",
        "import matplotlib.pyplot as plt\n",
        "import seaborn as sns\n",
        "import plotly.express as px\n",
        "import warnings\n",
        "warnings.filterwarnings('ignore')\n",
        "pd.set_option('display.max_columns',None)\n",
        "pd.set_option('display.max_rows',None)\n",
        "pd.set_option('display.width',500)\n",
        "pd.set_option('display.expand_frame_repr',False)\n",
        "pd.set_option('display.float_format',lambda x: '%.3f' % x)\n",
        "from sklearn.datasets import make_blobs\n",
        "from sklearn.model_selection import train_test_split\n"
      ]
    },
    {
      "cell_type": "markdown",
      "source": [
        "Importação das bibliotecas."
      ],
      "metadata": {
        "id": "evw9l3HTzbzm"
      }
    },
    {
      "cell_type": "code",
      "source": [
        "df = make_blobs(n_samples=200, n_features=2, centers=4, random_state=42)\n",
        "df[0], len(df[0])  #array de 200 linhas"
      ],
      "metadata": {
        "id": "k1QqkiKGzbJ3"
      },
      "execution_count": null,
      "outputs": []
    },
    {
      "cell_type": "code",
      "source": [
        "df[1] # são as classes"
      ],
      "metadata": {
        "id": "ArVrxsU60S0S"
      },
      "execution_count": null,
      "outputs": []
    },
    {
      "cell_type": "code",
      "source": [
        "plt.figure(figsize=(10,6))\n",
        "plt.scatter(df[0][:,0],df[0][:,1],c=df[1])\n",
        "plt.title('Blobs Dataset')\n",
        "plt.xlabel('Feature 1')\n",
        "plt.ylabel('Feature 2')\n",
        "plt.show( )"
      ],
      "metadata": {
        "id": "WNEfUmws1Kjt"
      },
      "execution_count": null,
      "outputs": []
    },
    {
      "cell_type": "code",
      "source": [
        "from sklearn.cluster import KMeans\n",
        "model = KMeans(n_clusters=4,random_state=42)\n",
        "model.fit(df[0])"
      ],
      "metadata": {
        "id": "2fgwJhnE1ilX"
      },
      "execution_count": null,
      "outputs": []
    },
    {
      "cell_type": "code",
      "source": [
        "model.cluster_centers_"
      ],
      "metadata": {
        "id": "aTLzK_FL19J_"
      },
      "execution_count": null,
      "outputs": []
    },
    {
      "cell_type": "code",
      "source": [
        "model.labels_"
      ],
      "metadata": {
        "id": "HArb9y8T2E_-"
      },
      "execution_count": null,
      "outputs": []
    },
    {
      "cell_type": "code",
      "source": [
        "fig,(ax1,ax2) = plt.subplots(1,2,figsize=(10,6))\n",
        "fig.suptitle('K-Means Clustering',fontsize=20,fontweight='bold',color='red')\n",
        "ax1.scatter(df[0][:,0],df[0][:,1],c=df[1])\n",
        "ax1.set_title('Original')\n",
        "ax1.scatter(df[0][:,0],df[0][:,1],c=df[1])\n",
        "ax2.scatter(df[0][:,0],df[0][:,1],c=model.labels_)\n",
        "ax2.set_title('Clusters by K-Means')\n",
        "ax2.scatter(df[0][:,0],df[0][:,1],c=df[1])\n",
        "plt.show( )"
      ],
      "metadata": {
        "id": "_OXpWPqU2I9u"
      },
      "execution_count": null,
      "outputs": []
    }
  ]
}