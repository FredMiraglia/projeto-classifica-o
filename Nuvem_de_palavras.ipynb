{
  "nbformat": 4,
  "nbformat_minor": 0,
  "metadata": {
    "colab": {
      "provenance": [],
      "authorship_tag": "ABX9TyN4BDEEUjv/GFk3DcWOhEM4",
      "include_colab_link": true
    },
    "kernelspec": {
      "name": "python3",
      "display_name": "Python 3"
    },
    "language_info": {
      "name": "python"
    }
  },
  "cells": [
    {
      "cell_type": "markdown",
      "metadata": {
        "id": "view-in-github",
        "colab_type": "text"
      },
      "source": [
        "<a href=\"https://colab.research.google.com/github/FredMiraglia/projeto_analise_dados/blob/main/Nuvem_de_palavras.ipynb\" target=\"_parent\"><img src=\"https://colab.research.google.com/assets/colab-badge.svg\" alt=\"Open In Colab\"/></a>"
      ]
    },
    {
      "cell_type": "code",
      "source": [
        "# !pip install notebook wordcloud pillow pandas\n",
        "#!pip install tqdm"
      ],
      "metadata": {
        "id": "Xf75jo5ttMo-"
      },
      "execution_count": 54,
      "outputs": []
    },
    {
      "cell_type": "code",
      "execution_count": 55,
      "metadata": {
        "id": "lOFDEMfis22a"
      },
      "outputs": [],
      "source": [
        "import pandas as pd\n",
        "import numpy as np\n",
        "import matplotlib.pyplot as plt\n",
        "\n",
        "#################################\n",
        "from bs4 import BeautifulSoup\n",
        "import requests\n",
        "import re\n",
        "import string\n",
        "\n"
      ]
    },
    {
      "cell_type": "code",
      "source": [
        "from nltk.corpus import stopwords\n",
        "import nltk\n",
        "\n",
        "nltk.download('stopwords')\n",
        "\n",
        "language = 'portuguese'\n",
        "stop_words = set(stopwords.words(language))\n",
        "stop_words_customizado = stop_words.union({\"a\", \"ante\", \"após\", \"até\", \"com\", \"contra\", \"de\", \"desde\", \"em\", \"entre\", \"para\", \"perante\", \"por\", \"sem\", \"sob\", \"sobre\", \"trás\", \"afora\", \"como\", \"conforme\", \"consoante\", \"durante\", \"exceto\", \"mediante\", \"menos\", \"salvo\", \"segundo\", \"visto\",'de',  'a',  'o',  'que',  'e',  'do',  'da',  'em',  'um',  'para',  'é',  'com',  'não',  'uma',  'os',  'no',  'se',  'na',  'por',  'mais',  'as',  'dos',  'como',  'mas',  'foi',  'ao',  'ele',  'das',  'tem',  'à',  'seu',  'sua',  'ou',  'ser',  'quando',  'muito',  'há',  'nos',  'já',  'está',  'eu',  'também',  'só',  'pelo',  'pela',  'até',  'isso',  'ela',  'entre',  'era',  'depois',  'sem',  'mesmo',  'aos',  'ter',  'seus',  'quem',  'nas',  'me',  'esse',  'eles',  'estão',  'você',  'tinha',  'foram',  'essa',  'num',  'nem',  'suas',  'meu',  'às',  'minha',  'têm',  'numa',  'pelos',  'elas',  'havia',  'seja',  'qual',  'será',  'nós',  'tenho',  'lhe',  'deles',  'essas',  'esses',  'pelas',  'este',  'fosse',  'dele',  'tu',  'te',  'vocês',  'vos',  'lhes',  'meus',  'minhas',  'teu',  'tua',  'teus',  'tuas',  'nosso',  'nossa',  'nossos',  'nossas',  'dela',  'delas',  'esta',  'estes',  'estas',  'aquele',  'aquela',  'aqueles',  'aquelas',  'isto',  'aquilo',  'estou',  'está',  'estamos',  'estão',  'estive',  'esteve',  'estivemos',  'estiveram',  'estava',  'estávamos',  'estavam',  'estivera',  'estivéramos',  'esteja',  'estejamos',  'estejam',  'estivesse',  'estivéssemos',  'estivessem',  'estiver',  'estivermos',  'estiverem',  'hei',  'há',  'havemos',  'hão',  'houve',  'houvemos',  'houveram',  'houvera',  'houvéramos',  'haja',  'hajamos',  'hajam',  'houvesse',  'houvéssemos',  'houvessem',  'houver',  'houvermos',  'houverem',  'houverei',  'houverá',  'houveremos',  'houverão',  'houveria',  'houveríamos',  'houveriam',  'sou',  'somos',  'são',  'era',  'éramos',  'eram',  'fui',  'foi',  'fomos',  'foram',  'fora',  'fôramos',  'seja',  'sejamos',  'sejam',  'fosse',  'fôssemos',  'fossem',  'for',  'formos',  'forem',  'serei',  'será',  'seremos',  'serão',  'seria',  'seríamos',  'seriam',  'tenho',  'tem',  'temos',  'tém',  'tinha',  'tínhamos',  'tinham',  'tive',  'teve',  'tivemos',  'tiveram',  'tivera',  'tivéramos',  'tenha',  'tenhamos',  'tenham',  'tivesse',  'tivéssemos',  'tivessem',  'tiver',  'tivermos',  'tiverem',  'terei',  'terá',  'teremos',  'terão',  'teria',  'teríamos',  'teriam'})"
      ],
      "metadata": {
        "id": "LC9_H6xWTQb0",
        "colab": {
          "base_uri": "https://localhost:8080/"
        },
        "outputId": "342a9cae-ea56-4e41-a013-551e144d5b32"
      },
      "execution_count": 56,
      "outputs": [
        {
          "output_type": "stream",
          "name": "stderr",
          "text": [
            "[nltk_data] Downloading package stopwords to /root/nltk_data...\n",
            "[nltk_data]   Package stopwords is already up-to-date!\n"
          ]
        }
      ]
    },
    {
      "cell_type": "code",
      "source": [
        "url_base = \"https://www.mldb.org\""
      ],
      "metadata": {
        "id": "l8qNuw4RtdYh"
      },
      "execution_count": 57,
      "outputs": []
    },
    {
      "cell_type": "code",
      "source": [
        "artista = \"artist-6123-o-rappa.html\""
      ],
      "metadata": {
        "id": "8VqjRCqet9TA"
      },
      "execution_count": 58,
      "outputs": []
    },
    {
      "cell_type": "code",
      "source": [
        "req =  requests.get(f'{url_base}/{artista}', headers={\"User-Agent\": \"Mozilla/5.0\"})"
      ],
      "metadata": {
        "id": "VFm9-B1uucNL"
      },
      "execution_count": 59,
      "outputs": []
    },
    {
      "cell_type": "code",
      "source": [
        "pag = req.text"
      ],
      "metadata": {
        "id": "in0y0Akku3bF"
      },
      "execution_count": 60,
      "outputs": []
    },
    {
      "cell_type": "code",
      "source": [
        "sapao = BeautifulSoup(pag, 'html.parser')\n",
        "sapao"
      ],
      "metadata": {
        "id": "vKIy9BhuwY6e",
        "colab": {
          "base_uri": "https://localhost:8080/"
        },
        "outputId": "ebb8cf9d-9ae9-4c24-d9a7-33872b9d81c6"
      },
      "execution_count": 61,
      "outputs": [
        {
          "output_type": "execute_result",
          "data": {
            "text/plain": [
              "<!DOCTYPE html PUBLIC \"-//W3C//DTD XHTML 1.0 Transitional//EN\" \"http://www.w3.org/TR/xhtml1/DTD/xhtml1-transitional.dtd\">\n",
              "\n",
              "<html lang=\"en\" xml:lang=\"en\" xmlns=\"http://www.w3.org/1999/xhtml\">\n",
              "<head>\n",
              "<title>MLDb, The Music Lyrics Database - List of songs of O Rappa by albums</title>\n",
              "<meta content=\"Nikolay Pelov, NickSoft\" name=\"Author\"/>\n",
              "<meta content=\"List of songs of O Rappa by albums\" name=\"Description\"/>\n",
              "<meta content=\"music,song,lyrics,mldb,artist,group,performer,O Rappa,Instinto Coletivo Ao Vivo,Lado B Lado A,O Rappa,O Silêncio Q Precede O Esporro,Rappa-Mundi\" name=\"Keywords\"/>\n",
              "<meta content=\"index,follow\" name=\"robots\"/>\n",
              "<meta content=\"7 days\" name=\"revisit-after\"/>\n",
              "<meta content=\"MLDb, The Music Lyrics Database - List of songs of O Rappa by albums\" name=\"title\"/>\n",
              "<meta content=\"Global\" name=\"distribution\"/>\n",
              "<meta content=\"general\" name=\"rating\"/>\n",
              "<link href=\"style.css\" media=\"all\" rel=\"stylesheet\" type=\"text/css\"/>\n",
              "<link href=\"/favicon.ico\" rel=\"shortcut icon\"/>\n",
              "<link href=\"http://www.mldb.org/opensearch.xml\" rel=\"search\" title=\"MLDb music lyrics search\" type=\"application/opensearchdescription+xml\"/>\n",
              "<!-- music song lyrics database begins -->\n",
              "<!-- music song lyrics database navigation links -->\n",
              "<link href=\"http://www.mldb.org/\" rel=\"MLDb - Home\" title=\"Music lyrics\"/>\n",
              "<link href=\"http://www.mldb.org/search\" rel=\"section\" title=\"Music lyrics Search\"/>\n",
              "<link href=\"http://www.mldb.org/top40.html\" rel=\"section\" title=\"Top 40 Music Lyrics\"/>\n",
              "<link href=\"http://www.mldb.org/new-lyrics.html\" rel=\"section\" title=\"Latest Music Lyrics\"/>\n",
              "<link href=\"http://www.mldb.org/submit.html\" rel=\"section\" title=\"Submit music lyrics to database\"/>\n",
              "<link href=\"http://www.mldb.org/extras.html\" rel=\"contents\" title=\"Extras: toolbar buttons, firefox search box\"/>\n",
              "<style type=\"text/css\">\n",
              "<!--\n",
              ".dnone{\n",
              "  display:none;\n",
              "}\n",
              "-->\n",
              "</style>\n",
              "<link href=\"http://www.mldb.org/feed-RSS1.0-artist-6123-o-rappa.xml\" rel=\"alternate\" title=\"RSS\" type=\"application/rss+xml\"/>\n",
              "<!-- International portal to music lyrics. Sorted lyrics by artist name. Clean and easy-to-use site with over 220,000 lyrics -->\n",
              "<!-- Top 40 lyrics chart. Comprehensive music lyrics search engine. Fulltext lyrics search. Search by artist, title, both of them or song lyrics -->\n",
              "<!-- <link rel=\"prefetch\" href=\"http://\"> -->\n",
              "<script src=\"js/main.js?v=3\" type=\"text/javascript\"></script>\n",
              "<script src=\"/js/ST.min.js?v=2\" type=\"text/javascript\"></script></head>\n",
              "<body style=\"margin: 0px; padding: 0px;\">\n",
              "<center><div id=\"container\">\n",
              "<table align=\"center\" cellspacing=\"0\" id=\"toptbl\"><tr><td><!--<img src='img/headerbg.png' id=\"topimg\" />-->\n",
              "<div id=\"topadframe\">\n",
              "<script async=\"\" crossorigin=\"anonymous\" src=\"https://pagead2.googlesyndication.com/pagead/js/adsbygoogle.js?client=ca-pub-9307576326974516\"></script>\n",
              "<!-- MLDb top 468x60 -->\n",
              "<ins class=\"adsbygoogle\" data-ad-client=\"ca-pub-9307576326974516\" data-ad-slot=\"9720604683\" style=\"display:inline-block;width:468px;height:60px\"></ins>\n",
              "<script>\n",
              "  (adsbygoogle = window.adsbygoogle || []).push({});\n",
              "</script>\n",
              "</div>\n",
              "<div id=\"toplinks\" style=\"width:200px;position:absolute;\"><a href=\"/advertise.html\" style=\"color:orange\">Advertise</a> <a href=\"/contact.html\">contact us</a></div>\n",
              "<div style=\"height:80px\"></div>\n",
              "<div id=\"nav\">\n",
              "<div style=\"height:6px\"><img alt=\"\" height=\"6\" src=\"img/spacer.gif\" width=\"1\"/></div>\n",
              "<div align=\"left\" id=\"tabs\"><ul><li><a href=\"/\" title=\"Music Lyrics Database Homepage\">home</a></li><li><a href=\"/aza-A.html\" title=\"Complete artist list\">artists</a></li><li><a href=\"/azl-A.html\" title=\"Complete album list\">albums</a></li><li><a href=\"/search?v=3\" title=\"Search for song lyrics, detailed search\">search</a></li><li><a href=\"/top40.html\" title=\"Top Chart of Music Lyrics Database\">top 40</a></li><li><a href=\"/new-lyrics.html\" title=\"New lyrics\">new</a></li><li><a href=\"/submit.html\" style=\"color:#FFE090;\" title=\"Submit new lyrics - help to make the world biggest music lyrics collection\">submit</a></li><li><a href=\"/extras.html\" style=\"border-right: 1px solid rgb(119, 119, 119);\" title=\"Browser toolbars, buttons, search boxes.\">extras</a></li></ul></div>\n",
              "<div class=\"underline\"><img alt=\"Main menu\" height=\"2\" src=\"img/spacer.gif\" width=\"1\"/></div>\n",
              "<!--  <div style=\"border-left: 1px solid rgb(119, 119, 119); float: left; height: 1px;\"></div>-->\n",
              "<div id=\"ajaxNav\">\n",
              "<div class=\"slip\" id=\"az\">\n",
              "<ul>\n",
              "<li><a href=\"aza-0.html\">#</a><a href=\"aza-A.html\">A</a><a href=\"aza-B.html\">B</a><a href=\"aza-C.html\">C</a><a href=\"aza-D.html\">D</a><a href=\"aza-E.html\">E</a><a href=\"aza-F.html\">F</a><a href=\"aza-G.html\">G</a><a href=\"aza-H.html\">H</a><a href=\"aza-I.html\">I</a><a href=\"aza-J.html\">J</a><a href=\"aza-K.html\">K</a><a href=\"aza-L.html\">L</a><a href=\"aza-M.html\">M</a><a href=\"aza-N.html\">N</a><a href=\"aza-O.html\">O</a><a href=\"aza-P.html\">P</a><a href=\"aza-Q.html\">Q</a><a href=\"aza-R.html\">R</a><a href=\"aza-S.html\">S</a><a href=\"aza-T.html\">T</a><a href=\"aza-U.html\">U</a><a href=\"aza-V.html\">V</a><a href=\"aza-W.html\">W</a><a href=\"aza-X.html\">X</a><a href=\"aza-Y.html\">Y</a><a href=\"aza-Z.html\">Z</a><a href=\"aza-_.html\">*</a></li>\n",
              "</ul>\n",
              "</div>\n",
              "</div>\n",
              "</div>\n",
              "</td></tr></table><table align=\"center\" cellspacing=\"0\" id=\"centertbl\">\n",
              "<tr><td class=\"center\" colspan=\"2\">\n",
              "<!-- page IS safe center --><div style=\"width:728px;height:90px;margin:auto\">\n",
              "<script async=\"\" crossorigin=\"anonymous\" src=\"https://pagead2.googlesyndication.com/pagead/js/adsbygoogle.js?client=ca-pub-9307576326974516\"></script>\n",
              "<!-- MLDb below top nav 728x90 -->\n",
              "<ins class=\"adsbygoogle\" data-ad-client=\"ca-pub-9307576326974516\" data-ad-slot=\"5179889214\" style=\"display:inline-block;width:728px;height:90px\"></ins>\n",
              "<script>\n",
              "    (adsbygoogle = window.adsbygoogle || []).push({});\n",
              "  </script>\n",
              "</div>\n",
              "</td></tr>\n",
              "<tr><td class=\"leftplane\">\n",
              "<div style=\"width:160px\">\n",
              "<!-- Left Nav -->\n",
              "<script type=\"text/javascript\">searchBox();</script>\n",
              "<br/>\n",
              "<br/>\n",
              "<script type=\"text/javascript\">drawStats(236679,24057,11223,183);</script>\n",
              "<br/>\n",
              "<script async=\"\" crossorigin=\"anonymous\" src=\"https://pagead2.googlesyndication.com/pagead/js/adsbygoogle.js?client=ca-pub-9307576326974516\"></script>\n",
              "<!-- MLDB Left Sidebar 160x600 -->\n",
              "<ins class=\"adsbygoogle\" data-ad-client=\"ca-pub-9307576326974516\" data-ad-slot=\"7838877680\" style=\"display:inline-block;width:160px;height:600px\"></ins>\n",
              "<script>\n",
              "  (adsbygoogle = window.adsbygoogle || []).push({});\n",
              "</script>\n",
              "<br/><br/>\n",
              "<table cellspacing=\"0\" class=\"main_tbl\" style=\"width:160px\">\n",
              "<thead><tr><td>Top artists</td></tr></thead>\n",
              "<tr><td>\n",
              "<a href=\"artist-3796-a-funny-thing-happened-on-the-way-to-the-forum-soundtrack.html?nc=1\">A Funny Thing Happened on the Way to the Forum Soundtrack</a><br/><a href=\"artist-25-metallica.html?nc=1\">Metallica</a><br/><a href=\"artist-278-a.html?nc=1\">A</a><br/><a href=\"artist-3795-a-charlie-brown-christmas-soundtrack.html?nc=1\">A Charlie Brown Christmas Soundtrack</a><br/><a href=\"artist-3807-fame-soundtrack.html?nc=1\">Fame Soundtrack</a><br/></td></tr>\n",
              "</table>\n",
              "<br/>\n",
              "<table cellspacing=\"0\" class=\"main_tbl\" style=\"width:160px\">\n",
              "<thead><tr><td>Top albums</td></tr></thead>\n",
              "<tr><td>\n",
              "<a href=\"album-12771-a-funny-thing-happened-on-the-way-to-the-forum-soundtrack.html?nc=1\">A Funny Thing Happened on the Way to the Forum Soundtrack</a><br/><a href=\"album-21665-a-arte-de-leila-pinheiro.html?nc=1\">A Arte de Leila Pinheiro</a><br/><a href=\"album-13642-por-siempre-tu-y-yo.html?nc=1\">Por siempre tu y yo</a><br/><a href=\"album-466-a.html?nc=1\">A</a><br/><a href=\"album-19150-piron.html?nc=1\">Piron</a><br/></td></tr>\n",
              "</table>\n",
              "<br/>\n",
              "<table cellspacing=\"0\" class=\"main_tbl\" style=\"width:160px\">\n",
              "<thead><tr><td>External Links</td></tr></thead>\n",
              "<tr><td>\n",
              "<a href=\"http://www.mybestmatch.net/\" target=\"_blank\" title=\"A new, fresh dating site.\">MyBestMatch.net</a><br/>\n",
              "<a href=\"http://www.bianca-ryan.org/\" target=\"_blank\">Bianca Ryan fan site</a><br/>\n",
              "<a href=\"http://video.croler.net/\" target=\"_blank\" title=\"Search for online videos - music, movie trailers, home videos\">Croler Video Search</a><br/>\n",
              "<script type=\"text/javascript\">\n",
              "</script>\n",
              "</td></tr>\n",
              "</table>\n",
              "</div>\n",
              "</td>\n",
              "<td class=\"centerplane\">\n",
              "<div class=\"artistHeading\"><h1>O Rappa <span style=\"color:#555\">lyrics</span></h1>Rating: 5.97<br/></div><table id=\"thelist\"><tr><th><a href=\"album-17503-instinto-coletivo-ao-vivo.html\">Instinto Coletivo Ao Vivo</a><br/></th></tr><tr><td><a href=\"song-165995-fica-doido-varrido.html\">Fica Doido Varrido</a></td></tr><tr><td><a href=\"song-165996-instinto-coletivo.html\">Instinto Coletivo</a></td></tr><tr><td><a href=\"song-165997-milagre.html\">Milagre</a></td></tr><tr><td><a href=\"song-165998-ninguem-regula-a-america.html\">Ninguém Regula A América</a></td></tr><tr><th><a href=\"album-17504-lado-b-lado-a.html\">Lado B Lado A</a><br/></th></tr><tr><td><a href=\"song-165999-a-todas-as-comunidades-do-engenho-novo.html\">A Todas As Comunidades Do Engenho Novo</a></td></tr><tr><td><a href=\"song-166000-cristo-e-oxala.html\">Cristo E Oxalá</a></td></tr><tr><td><a href=\"song-166001-favela.html\">Favela</a></td></tr><tr><td><a href=\"song-166002-homem-amarelo.html\">Homem Amarelo</a></td></tr><tr><td><a href=\"song-166003-lado-b-lado-a.html\">Lado B Lado A</a></td></tr><tr><td><a href=\"song-166004-me-deixa.html\">Me Deixa</a></td></tr><tr><td><a href=\"song-166005-minha-alma-a-paz-que-eu-nao-quero.html\">Minha Alma ( A Paz Que Eu Não Quero )</a></td></tr><tr><td><a href=\"song-166006-na-palma-da-mao.html\">Na Palma da Mão</a></td></tr><tr><td><a href=\"song-166007-no-de-fumaca.html\">Nó De Fumaça</a></td></tr><tr><td><a href=\"song-166008-o-que-sobrou-do-ceu.html\">O Que Sobrou Do Céu</a></td></tr><tr><td><a href=\"song-166009-tribunal-de-rua.html\">Tribunal De Rua</a></td></tr><tr><th><a href=\"album-17505-o-rappa.html\">O Rappa</a><br/></th></tr><tr><td><a href=\"song-166010-a-noite.html\">A Noite</a></td></tr><tr><td><a href=\"song-166011-candidato-cao-cao.html\">Candidato Caô Caô</a></td></tr><tr><td><a href=\"song-166012-coincidencias-e-paixoes.html\">Coincidências E Paixões</a></td></tr><tr><td><a href=\"song-166013-nao-vao-me-matar.html\">Não Vão Me Matar</a></td></tr><tr><td><a href=\"song-166014-sujo.html\">Sujo</a></td></tr><tr><td><a href=\"song-166015-todo-camburao-tem-um-pouco-de-navio-negreiro.html\">Todo Camburão Tem Um Pouco De Navio Negreiro</a></td></tr><tr><th><a href=\"album-17506-o-silencio-q-precede-o-esporro.html\">O Silêncio Q Precede O Esporro</a><br/></th></tr><tr><td><a href=\"song-166016-o-salto.html\">O Salto</a></td></tr><tr><td><a href=\"song-166017-papo-de-surdo-e-mudo.html\">Papo De Surdo  E Mudo</a></td></tr><tr><td><a href=\"song-166018-reza-vela.html\">Reza Vela</a></td></tr><tr><td><a href=\"song-166019-rodo-cotidiano.html\">Rodo Cotidiano</a></td></tr><tr><th><a href=\"album-17507-rappa-mundi.html\">Rappa-Mundi</a><br/></th></tr><tr><td><a href=\"song-166020-a-feira.html\">A Feira</a></td></tr><tr><td><a href=\"song-166021-eu-nao-sei-mentir-direito.html\">Eu  Não Sei Mentir Direito</a></td></tr><tr><td><a href=\"song-166022-eu-quero-ver-gol.html\">Eu Quero Ver Gol</a></td></tr><tr><td><a href=\"song-166023-hey-joe.html\">Hey Joe</a></td></tr><tr><td><a href=\"song-166024-ile-aye.html\">Ilê Ayê</a></td></tr><tr><td><a href=\"song-166025-lei-da-sobrevivencia.html\">Lei Da Sobrevivência</a></td></tr><tr><td><a href=\"song-166026-miseria-s-a.html\">Miséria S.A.</a></td></tr><tr><td><a href=\"song-166027-o-homem-bomba.html\">O Homem Bomba</a></td></tr><tr><td><a href=\"song-166028-oia-o-rapa.html\">Óia O Rapa</a></td></tr><tr><td><a href=\"song-166029-pescador-de-ilusoes.html\">Pescador De Ilusões</a></td></tr><tr><td><a href=\"song-166030-tumulto.html\">Tumulto</a></td></tr><tr><td><a href=\"song-166031-vapor-barato.html\">Vapor Barato</a></td></tr></table><script type=\"text/javascript\">InitDataView(\"thelist\",\"#F7F7FF\",\"#FFFFFF\");</script></td></tr>\n",
              "</table>\n",
              "<table cellpadding=\"2\" cellspacing=\"0\" width=\"100%\">\n",
              "<tr><td align=\"center\" style=\"border-top:2px dashed #E0E0E0;font-family:verdana, arial;font-size:12px;\">\n",
              "All lyrics are property and copyright of their owners.\n",
              "</td></tr>\n",
              "</table>\n",
              "</div></center>\n",
              "<script>\n",
              "  (function(i,s,o,g,r,a,m){i['GoogleAnalyticsObject']=r;i[r]=i[r]||function(){\n",
              "    (i[r].q=i[r].q||[]).push(arguments)},i[r].l=1*new Date();a=s.createElement(o),\n",
              "      m=s.getElementsByTagName(o)[0];a.async=1;a.src=g;m.parentNode.insertBefore(a,m)\n",
              "  })(window,document,'script','https://www.google-analytics.com/analytics.js','ga');\n",
              "\n",
              "  ga('create', 'UA-319914-9', 'auto');\n",
              "  ga('send', 'pageview');\n",
              "\n",
              "</script>\n",
              "</body>\n",
              "</html>"
            ]
          },
          "metadata": {},
          "execution_count": 61
        }
      ]
    },
    {
      "cell_type": "code",
      "source": [
        "links = sapao.find_all('a', {'href':re.compile(r'song-*')})\n",
        "len(links)"
      ],
      "metadata": {
        "id": "OUVkAd0Dwk7t",
        "colab": {
          "base_uri": "https://localhost:8080/"
        },
        "outputId": "c5fc4e0f-48ce-4ae1-dfe6-03963462f819"
      },
      "execution_count": 62,
      "outputs": [
        {
          "output_type": "execute_result",
          "data": {
            "text/plain": [
              "37"
            ]
          },
          "metadata": {},
          "execution_count": 62
        }
      ]
    },
    {
      "cell_type": "code",
      "source": [
        "links[4]"
      ],
      "metadata": {
        "id": "SSkN3-lw7v_D",
        "colab": {
          "base_uri": "https://localhost:8080/"
        },
        "outputId": "6023ec79-88e6-4b11-e140-11341b305931"
      },
      "execution_count": 63,
      "outputs": [
        {
          "output_type": "execute_result",
          "data": {
            "text/plain": [
              "<a href=\"song-165999-a-todas-as-comunidades-do-engenho-novo.html\">A Todas As Comunidades Do Engenho Novo</a>"
            ]
          },
          "metadata": {},
          "execution_count": 63
        }
      ]
    },
    {
      "cell_type": "code",
      "source": [
        "from tqdm import tqdm\n",
        "letras_radiohead = ''\n",
        "\n",
        "with open('./lyrics_radiohead.txt','w') as arquivo_letra:\n",
        "    for links in tqdm(links):\n",
        "        url_musica = links['href']\n",
        "        url_completa = f'{url_base}/{url_musica}'\n",
        "        req = requests.get(url_completa, headers={\"User-Agent\": \"Mozilla/5.0\"})\n",
        "        sapao_musica = BeautifulSoup(req.text, 'html.parser')\n",
        "        letra = sapao_musica.find('p', {'class':'songtext'})\n",
        "        arquivo_letra.write(f'{letra.text}\\n')\n",
        "        letras_radiohead += f'{letra.text}\\n'\n",
        "\n",
        "\n"
      ],
      "metadata": {
        "id": "PU-baVTU73ef",
        "colab": {
          "base_uri": "https://localhost:8080/"
        },
        "outputId": "d50692c3-8734-4df6-d8d6-0e2257fcd439"
      },
      "execution_count": 64,
      "outputs": [
        {
          "output_type": "stream",
          "name": "stderr",
          "text": [
            "100%|██████████| 37/37 [00:14<00:00,  2.53it/s]\n"
          ]
        }
      ]
    },
    {
      "cell_type": "code",
      "source": [
        "tokken = letras_radiohead.split()\n",
        "for i in range(len(tokken)):\n",
        "    tokken[i] = tokken[i].lower().strip()\n",
        "tokken[:20]\n",
        "\n",
        "\n",
        "\n"
      ],
      "metadata": {
        "id": "l3c4PTVqE9_B",
        "colab": {
          "base_uri": "https://localhost:8080/"
        },
        "outputId": "5ec5c3b5-dea2-4779-fc8c-aca2c7e87fb5"
      },
      "execution_count": 65,
      "outputs": [
        {
          "output_type": "execute_result",
          "data": {
            "text/plain": [
              "['fica',\n",
              " 'doido',\n",
              " 'varrido',\n",
              " 'quem',\n",
              " 'quer',\n",
              " 'se',\n",
              " 'meter',\n",
              " 'a',\n",
              " 'entender',\n",
              " 'da',\n",
              " 'mulher',\n",
              " 'comprei',\n",
              " 'um',\n",
              " 'barracão',\n",
              " 'lá',\n",
              " 'na',\n",
              " 'favela',\n",
              " 'e',\n",
              " 'botei',\n",
              " 'no']"
            ]
          },
          "metadata": {},
          "execution_count": 65
        }
      ]
    },
    {
      "cell_type": "code",
      "source": [
        "!pip install wordcloud pillow\n",
        "!pip install STOPWORD"
      ],
      "metadata": {
        "id": "F1Y-ailBKtXv",
        "colab": {
          "base_uri": "https://localhost:8080/"
        },
        "outputId": "90e7189c-1726-4a11-99e3-b77fe16437b4"
      },
      "execution_count": null,
      "outputs": [
        {
          "output_type": "stream",
          "name": "stdout",
          "text": [
            "Requirement already satisfied: wordcloud in /usr/local/lib/python3.10/dist-packages (1.9.4)\n",
            "Requirement already satisfied: pillow in /usr/local/lib/python3.10/dist-packages (11.0.0)\n",
            "Requirement already satisfied: numpy>=1.6.1 in /usr/local/lib/python3.10/dist-packages (from wordcloud) (1.26.4)\n",
            "Requirement already satisfied: matplotlib in /usr/local/lib/python3.10/dist-packages (from wordcloud) (3.8.0)\n",
            "Requirement already satisfied: contourpy>=1.0.1 in /usr/local/lib/python3.10/dist-packages (from matplotlib->wordcloud) (1.3.1)\n",
            "Requirement already satisfied: cycler>=0.10 in /usr/local/lib/python3.10/dist-packages (from matplotlib->wordcloud) (0.12.1)\n",
            "Requirement already satisfied: fonttools>=4.22.0 in /usr/local/lib/python3.10/dist-packages (from matplotlib->wordcloud) (4.55.3)\n",
            "Requirement already satisfied: kiwisolver>=1.0.1 in /usr/local/lib/python3.10/dist-packages (from matplotlib->wordcloud) (1.4.7)\n",
            "Requirement already satisfied: packaging>=20.0 in /usr/local/lib/python3.10/dist-packages (from matplotlib->wordcloud) (24.2)\n",
            "Requirement already satisfied: pyparsing>=2.3.1 in /usr/local/lib/python3.10/dist-packages (from matplotlib->wordcloud) (3.2.0)\n",
            "Requirement already satisfied: python-dateutil>=2.7 in /usr/local/lib/python3.10/dist-packages (from matplotlib->wordcloud) (2.8.2)\n",
            "Requirement already satisfied: six>=1.5 in /usr/local/lib/python3.10/dist-packages (from python-dateutil>=2.7->matplotlib->wordcloud) (1.17.0)\n",
            "Requirement already satisfied: STOPWORD in /usr/local/lib/python3.10/dist-packages (0.0.4)\n"
          ]
        }
      ]
    },
    {
      "cell_type": "code",
      "source": [
        "from PIL import Image\n",
        "from wordcloud import WordCloud, STOPWORDS\n",
        "import matplotlib.pyplot as plt\n",
        "import numpy as np"
      ],
      "metadata": {
        "id": "5FWlxrepItxy"
      },
      "execution_count": null,
      "outputs": []
    },
    {
      "cell_type": "code",
      "source": [
        "palavras_radiohead = ' '.join(tokken)"
      ],
      "metadata": {
        "id": "uJ8dH8J9Iy4f"
      },
      "execution_count": null,
      "outputs": []
    },
    {
      "cell_type": "code",
      "source": [
        "palavras_radiohead[100:150]"
      ],
      "metadata": {
        "id": "ulvMJ9X5LMhN"
      },
      "execution_count": null,
      "outputs": []
    },
    {
      "cell_type": "code",
      "source": [
        "wordcloud = WordCloud(background_color='white',\n",
        "    stopwords = stop_words,\n",
        "    width = 300,\n",
        "    height = 200,\n",
        "    ).generate(palavras_radiohead)\n",
        "\n",
        "plt.figure(figsize=(10,30))\n",
        "plt.imshow(wordcloud)\n",
        "plt.axis('off')\n",
        "plt.show()\n"
      ],
      "metadata": {
        "collapsed": true,
        "id": "YVeTRmq-LWij"
      },
      "execution_count": null,
      "outputs": []
    }
  ]
}